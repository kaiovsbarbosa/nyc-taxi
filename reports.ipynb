{
 "cells": [
  {
   "metadata": {},
   "cell_type": "markdown",
   "source": "Reports:",
   "id": "4afd82cfebd4190a"
  },
  {
   "cell_type": "code",
   "id": "initial_id",
   "metadata": {
    "collapsed": true,
    "ExecuteTime": {
     "end_time": "2025-06-22T22:18:44.592544Z",
     "start_time": "2025-06-22T22:18:44.505572Z"
    }
   },
   "source": [
    "import pandas as pd\n",
    "\n",
    "fato = pd.read_csv(\"data_warehouse/fato_corrida.csv\")\n",
    "dim_tempo = pd.read_csv(\"data_warehouse/dim_tempo.csv\")\n",
    "dim_pagamento = pd.read_csv(\"data_warehouse/dim_pagamento.csv\")\n",
    "dim_tarifa = pd.read_csv(\"data_warehouse/dim_tarifa.csv\")\n",
    "\n",
    "df = fato.merge(dim_tempo, on=\"dim_tempo_id\", how=\"left\") \\\n",
    "         .merge(dim_pagamento, on=\"dim_pagamento_id\", how=\"left\") \\\n",
    "         .merge(dim_tarifa, on=\"dim_tarifa_id\", how=\"left\")\n",
    "\n",
    "df = df.rename(columns={\"descricao_x\": \"tipo_pagamento\", \"descricao_y\": \"tipo_tarifa\", \"descricao\": \"tipo_pagamento\"})"
   ],
   "outputs": [],
   "execution_count": 19
  },
  {
   "metadata": {
    "ExecuteTime": {
     "end_time": "2025-06-22T22:19:31.789785Z",
     "start_time": "2025-06-22T22:19:31.771790Z"
    }
   },
   "cell_type": "code",
   "source": [
    "corridas_tarifa_outlier = df[df[\"fare_amount\"] > 100][[\"corrida_id\", \"fare_amount\", \"total_amount\", \"passenger_count\"]].sort_values(by=\"fare_amount\", ascending=False)\n",
    "\n",
    "print(corridas_tarifa_outlier)"
   ],
   "id": "be23c9c550151559",
   "outputs": [
    {
     "name": "stdout",
     "output_type": "stream",
     "text": [
      "       corrida_id  fare_amount  total_amount  passenger_count\n",
      "10885       10885        553.2        555.20                2\n",
      "7899         7899        389.4        420.15                1\n",
      "15487       15487        338.3        444.84                2\n",
      "4194         4194        264.8        305.49                1\n",
      "20857       20857        227.0        237.41                2\n",
      "...           ...          ...           ...              ...\n",
      "10044       10044        101.0        111.19                1\n",
      "10106       10106        100.7        139.01                1\n",
      "26223       26223        100.7        145.21                1\n",
      "21932       21932        100.3        110.49                1\n",
      "15716       15716        100.3        122.16                1\n",
      "\n",
      "[84 rows x 4 columns]\n"
     ]
    }
   ],
   "execution_count": 21
  },
  {
   "metadata": {
    "ExecuteTime": {
     "end_time": "2025-06-22T22:19:51.805256Z",
     "start_time": "2025-06-22T22:19:51.789260Z"
    }
   },
   "cell_type": "code",
   "source": [
    "passageiros_por_hora_dia = df.groupby(\"hour\")[\"passenger_count\"].mean().reset_index(name=\"media_passageiros\")\n",
    "\n",
    "print(passageiros_por_hora_dia)"
   ],
   "id": "84aa6c4afa8755c8",
   "outputs": [
    {
     "name": "stdout",
     "output_type": "stream",
     "text": [
      "    hour  media_passageiros\n",
      "0      0           1.367199\n",
      "1      1           1.413361\n",
      "2      2           1.445205\n",
      "3      3           1.355450\n",
      "4      4           1.487395\n",
      "5      5           1.246667\n",
      "6      6           1.152174\n",
      "7      7           1.201835\n",
      "8      8           1.182609\n",
      "9      9           1.199033\n",
      "10    10           1.273200\n",
      "11    11           1.301937\n",
      "12    12           1.298575\n",
      "13    13           1.282659\n",
      "14    14           1.275785\n",
      "15    15           1.340245\n",
      "16    16           1.354177\n",
      "17    17           1.294521\n",
      "18    18           1.314300\n",
      "19    19           1.295977\n",
      "20    20           1.329495\n",
      "21    21           1.366849\n",
      "22    22           1.341808\n",
      "23    23           1.324123\n"
     ]
    }
   ],
   "execution_count": 22
  },
  {
   "metadata": {
    "ExecuteTime": {
     "end_time": "2025-06-22T22:31:57.708518Z",
     "start_time": "2025-06-22T22:31:57.678911Z"
    }
   },
   "cell_type": "code",
   "source": [
    "arrecadacao = df.groupby([\"tipo_pagamento\", \"tipo_tarifa\"])[\"total_amount\"].sum().reset_index(name=\"total_arrecadado\")\n",
    "\n",
    "print(arrecadacao)"
   ],
   "id": "80187c19935eaf9f",
   "outputs": [
    {
     "name": "stdout",
     "output_type": "stream",
     "text": [
      "   tipo_pagamento         tipo_tarifa  total_arrecadado\n",
      "0          Cartão        Desconhecido          13127.64\n",
      "1          Cartão                 JFK          73465.27\n",
      "2          Cartão  Nassau/Westchester           7287.48\n",
      "3          Cartão              Newark           8120.49\n",
      "4          Cartão              Padrão         567760.47\n",
      "5          Cartão    Tarifa negociada          11622.04\n",
      "6     Contestação                 JFK           1723.60\n",
      "7     Contestação  Nassau/Westchester            318.90\n",
      "8     Contestação              Newark            441.70\n",
      "9     Contestação              Padrão           7466.96\n",
      "10    Contestação    Tarifa negociada            257.44\n",
      "11       Dinheiro    Corrida em grupo              5.75\n",
      "12       Dinheiro                 JFK           8699.01\n",
      "13       Dinheiro  Nassau/Westchester           2130.26\n",
      "14       Dinheiro              Newark            968.65\n",
      "15       Dinheiro              Padrão          72787.33\n",
      "16       Dinheiro    Tarifa negociada           1099.12\n",
      "17   Sem cobrança                 JFK            224.50\n",
      "18   Sem cobrança  Nassau/Westchester             54.15\n",
      "19   Sem cobrança              Newark            112.90\n",
      "20   Sem cobrança              Padrão           2159.70\n",
      "21   Sem cobrança    Tarifa negociada             35.00\n"
     ]
    }
   ],
   "execution_count": 29
  },
  {
   "metadata": {
    "ExecuteTime": {
     "end_time": "2025-06-22T22:24:36.069820Z",
     "start_time": "2025-06-22T22:24:36.048827Z"
    }
   },
   "cell_type": "code",
   "source": [
    "df[\"tem_gorjeta\"] = df[\"tip_amount\"] > 0\n",
    "porcentagem_corrida_gorjeta = df.groupby(\"day_of_week\")[\"tem_gorjeta\"].mean().reset_index(name=\"proporcao_com_gorjeta\")\n",
    "\n",
    "print(porcentagem_corrida_gorjeta)"
   ],
   "id": "60df048f4f3a5463",
   "outputs": [
    {
     "name": "stdout",
     "output_type": "stream",
     "text": [
      "   day_of_week  proporcao_com_gorjeta\n",
      "0            1               0.815040\n",
      "1            2               0.812781\n",
      "2            3               0.819655\n",
      "3            4               0.804977\n",
      "4            5               0.825951\n",
      "5            6               0.797049\n",
      "6            7               0.800770\n"
     ]
    }
   ],
   "execution_count": 26
  }
 ],
 "metadata": {
  "kernelspec": {
   "display_name": "Python 3",
   "language": "python",
   "name": "python3"
  },
  "language_info": {
   "codemirror_mode": {
    "name": "ipython",
    "version": 2
   },
   "file_extension": ".py",
   "mimetype": "text/x-python",
   "name": "python",
   "nbconvert_exporter": "python",
   "pygments_lexer": "ipython2",
   "version": "2.7.6"
  }
 },
 "nbformat": 4,
 "nbformat_minor": 5
}
