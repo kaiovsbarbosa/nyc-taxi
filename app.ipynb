{
 "cells": [
  {
   "cell_type": "code",
   "id": "initial_id",
   "metadata": {
    "collapsed": true,
    "ExecuteTime": {
     "end_time": "2025-06-15T04:09:50.207627Z",
     "start_time": "2025-06-15T04:09:50.191774Z"
    }
   },
   "source": [
    "from pyspark.sql import SparkSession\n",
    "from pyspark.sql import Row, DataFrame\n",
    "from pyspark.sql.types import StringType, StructType, StructField, IntegerType\n",
    "from pyspark.sql.functions import col, expr, lit, substring, concat, concat_ws, when, coalesce\n",
    "from pyspark.sql import functions as F\n",
    "from functools import reduce\n",
    "\n",
    "spark = SparkSession.builder.master(\"local[1]\") \\\n",
    "                    .appName('nyc-taxi.com') \\\n",
    "                    .getOrCreate()"
   ],
   "outputs": [],
   "execution_count": 54
  },
  {
   "metadata": {
    "ExecuteTime": {
     "end_time": "2025-06-15T04:09:50.579890Z",
     "start_time": "2025-06-15T04:09:50.224007Z"
    }
   },
   "cell_type": "code",
   "source": [
    "df = spark.read.parquet('data/yellow_tripdata_2025-01.parquet', header=True, inferSchema=True)\n",
    "sample_df = df.sample(withReplacement=False, fraction=0.01, seed=42)\n",
    "\n",
    "print(\"Total original:\", df.count())\n",
    "print(\"Total amostrado:\", sample_df.count())"
   ],
   "id": "f199ecebb68e48c3",
   "outputs": [
    {
     "name": "stdout",
     "output_type": "stream",
     "text": [
      "Total original: 3475226\n",
      "Total amostrado: 35082\n"
     ]
    }
   ],
   "execution_count": 55
  },
  {
   "metadata": {
    "ExecuteTime": {
     "end_time": "2025-06-15T04:09:50.719843Z",
     "start_time": "2025-06-15T04:09:50.582889Z"
    }
   },
   "cell_type": "code",
   "source": "sample_df.show(5)",
   "id": "4d7f9cd750b86799",
   "outputs": [
    {
     "name": "stdout",
     "output_type": "stream",
     "text": [
      "+--------+--------------------+---------------------+---------------+-------------+----------+------------------+------------+------------+------------+-----------+-----+-------+----------+------------+---------------------+------------+--------------------+-----------+------------------+\n",
      "|VendorID|tpep_pickup_datetime|tpep_dropoff_datetime|passenger_count|trip_distance|RatecodeID|store_and_fwd_flag|PULocationID|DOLocationID|payment_type|fare_amount|extra|mta_tax|tip_amount|tolls_amount|improvement_surcharge|total_amount|congestion_surcharge|Airport_fee|cbd_congestion_fee|\n",
      "+--------+--------------------+---------------------+---------------+-------------+----------+------------------+------------+------------+------------+-----------+-----+-------+----------+------------+---------------------+------------+--------------------+-----------+------------------+\n",
      "|       2| 2025-01-01 00:37:00|  2025-01-01 00:50:26|              2|         2.15|         1|                 N|         164|         125|           1|       14.2|  1.0|    0.5|      2.88|         0.0|                  1.0|       22.08|                 2.5|        0.0|               0.0|\n",
      "|       2| 2025-01-01 00:26:05|  2025-01-01 00:31:56|              1|         0.95|         1|                 N|         236|         262|           2|        7.2|  1.0|    0.5|       0.0|         0.0|                  1.0|        12.2|                 2.5|        0.0|               0.0|\n",
      "|       2| 2025-01-01 00:48:11|  2025-01-01 00:53:42|              1|         0.98|         1|                 N|         237|         229|           1|        7.2|  1.0|    0.5|      2.44|         0.0|                  1.0|       14.64|                 2.5|        0.0|               0.0|\n",
      "|       1| 2025-01-01 00:32:22|  2025-01-01 00:43:35|              1|          2.0|         1|                 N|         249|          13|           4|       11.4|  3.5|    0.5|       0.0|         0.0|                  1.0|        16.4|                 2.5|        0.0|               0.0|\n",
      "|       2| 2025-01-01 00:40:46|  2025-01-01 01:04:19|              1|         2.53|         1|                 N|         141|         107|           1|       21.2|  1.0|    0.5|      5.24|         0.0|                  1.0|       31.44|                 2.5|        0.0|               0.0|\n",
      "+--------+--------------------+---------------------+---------------+-------------+----------+------------------+------------+------------+------------+-----------+-----+-------+----------+------------+---------------------+------------+--------------------+-----------+------------------+\n",
      "only showing top 5 rows\n"
     ]
    }
   ],
   "execution_count": 56
  },
  {
   "metadata": {
    "ExecuteTime": {
     "end_time": "2025-06-15T04:09:50.734838Z",
     "start_time": "2025-06-15T04:09:50.721843Z"
    }
   },
   "cell_type": "code",
   "source": "sample_df.printSchema()",
   "id": "56aa64e147f4d85e",
   "outputs": [
    {
     "name": "stdout",
     "output_type": "stream",
     "text": [
      "root\n",
      " |-- VendorID: integer (nullable = true)\n",
      " |-- tpep_pickup_datetime: timestamp_ntz (nullable = true)\n",
      " |-- tpep_dropoff_datetime: timestamp_ntz (nullable = true)\n",
      " |-- passenger_count: long (nullable = true)\n",
      " |-- trip_distance: double (nullable = true)\n",
      " |-- RatecodeID: long (nullable = true)\n",
      " |-- store_and_fwd_flag: string (nullable = true)\n",
      " |-- PULocationID: integer (nullable = true)\n",
      " |-- DOLocationID: integer (nullable = true)\n",
      " |-- payment_type: long (nullable = true)\n",
      " |-- fare_amount: double (nullable = true)\n",
      " |-- extra: double (nullable = true)\n",
      " |-- mta_tax: double (nullable = true)\n",
      " |-- tip_amount: double (nullable = true)\n",
      " |-- tolls_amount: double (nullable = true)\n",
      " |-- improvement_surcharge: double (nullable = true)\n",
      " |-- total_amount: double (nullable = true)\n",
      " |-- congestion_surcharge: double (nullable = true)\n",
      " |-- Airport_fee: double (nullable = true)\n",
      " |-- cbd_congestion_fee: double (nullable = true)\n",
      "\n"
     ]
    }
   ],
   "execution_count": 57
  },
  {
   "metadata": {
    "ExecuteTime": {
     "end_time": "2025-06-15T04:09:50.968761Z",
     "start_time": "2025-06-15T04:09:50.737837Z"
    }
   },
   "cell_type": "code",
   "source": [
    "print(sample_df.count())\n",
    "print(df.count())"
   ],
   "id": "4c88bab2ac0dd62b",
   "outputs": [
    {
     "name": "stdout",
     "output_type": "stream",
     "text": [
      "35082\n",
      "3475226\n"
     ]
    }
   ],
   "execution_count": 58
  },
  {
   "metadata": {},
   "cell_type": "markdown",
   "source": "Limpeza, filtragem e transformação de dados.",
   "id": "5844e77f1674f91d"
  },
  {
   "metadata": {
    "ExecuteTime": {
     "end_time": "2025-06-15T04:09:51.913452Z",
     "start_time": "2025-06-15T04:09:50.971760Z"
    }
   },
   "cell_type": "code",
   "source": [
    "from pyspark.sql.functions import count, when, col\n",
    "\n",
    "sample_df.select([count(when(col(c).isNull(), c)).alias(c) for c in df.columns]).show()\n"
   ],
   "id": "a200257132f8ade6",
   "outputs": [
    {
     "name": "stdout",
     "output_type": "stream",
     "text": [
      "+--------+--------------------+---------------------+---------------+-------------+----------+------------------+------------+------------+------------+-----------+-----+-------+----------+------------+---------------------+------------+--------------------+-----------+------------------+\n",
      "|VendorID|tpep_pickup_datetime|tpep_dropoff_datetime|passenger_count|trip_distance|RatecodeID|store_and_fwd_flag|PULocationID|DOLocationID|payment_type|fare_amount|extra|mta_tax|tip_amount|tolls_amount|improvement_surcharge|total_amount|congestion_surcharge|Airport_fee|cbd_congestion_fee|\n",
      "+--------+--------------------+---------------------+---------------+-------------+----------+------------------+------------+------------+------------+-----------+-----+-------+----------+------------+---------------------+------------+--------------------+-----------+------------------+\n",
      "|       0|                   0|                    0|           5483|            0|      5483|              5483|           0|           0|           0|          0|    0|      0|         0|           0|                    0|           0|                5483|       5483|                 0|\n",
      "+--------+--------------------+---------------------+---------------+-------------+----------+------------------+------------+------------+------------+-----------+-----+-------+----------+------------+---------------------+------------+--------------------+-----------+------------------+\n",
      "\n"
     ]
    }
   ],
   "execution_count": 59
  },
  {
   "metadata": {
    "ExecuteTime": {
     "end_time": "2025-06-15T04:09:53.158451Z",
     "start_time": "2025-06-15T04:09:51.915450Z"
    }
   },
   "cell_type": "code",
   "source": [
    "sample_df = sample_df.dropDuplicates()\n",
    "print('df.count após dropar duplicatas: ', sample_df.count())"
   ],
   "id": "8d84ef3cf4a9c869",
   "outputs": [
    {
     "name": "stdout",
     "output_type": "stream",
     "text": [
      "df.count após dropar duplicatas:  35082\n"
     ]
    }
   ],
   "execution_count": 60
  },
  {
   "metadata": {
    "ExecuteTime": {
     "end_time": "2025-06-15T04:09:54.322532Z",
     "start_time": "2025-06-15T04:09:53.160450Z"
    }
   },
   "cell_type": "code",
   "source": [
    "sample_df = sample_df.filter(col(\"tpep_pickup_datetime\").isNotNull()) \\\n",
    "       .filter(col(\"tpep_dropoff_datetime\").isNotNull()) \\\n",
    "       .filter(col(\"trip_distance\") > 0) \\\n",
    "       .filter(col(\"fare_amount\") >= 0) \\\n",
    "       .filter(col(\"total_amount\") > 0) \\\n",
    "       .filter(col(\"passenger_count\") > 0) \\\n",
    "       .filter(col(\"RatecodeID\").isNotNull()) \\\n",
    "       .filter(col(\"passenger_count\").isNotNull()) \\\n",
    "       .filter(col(\"store_and_fwd_flag\").isNotNull()) \\\n",
    "       .filter(col(\"congestion_surcharge\").isNotNull()) \\\n",
    "       .filter(col(\"Airport_fee\").isNotNull())\n",
    "\n",
    "print(sample_df.count())"
   ],
   "id": "751bc5a4394fd7c0",
   "outputs": [
    {
     "name": "stdout",
     "output_type": "stream",
     "text": [
      "28440\n"
     ]
    }
   ],
   "execution_count": 61
  },
  {
   "metadata": {
    "ExecuteTime": {
     "end_time": "2025-06-15T04:09:55.500144Z",
     "start_time": "2025-06-15T04:09:54.324534Z"
    }
   },
   "cell_type": "code",
   "source": "sample_df.show(5)",
   "id": "40c1cd828d243582",
   "outputs": [
    {
     "name": "stdout",
     "output_type": "stream",
     "text": [
      "+--------+--------------------+---------------------+---------------+-------------+----------+------------------+------------+------------+------------+-----------+-----+-------+----------+------------+---------------------+------------+--------------------+-----------+------------------+\n",
      "|VendorID|tpep_pickup_datetime|tpep_dropoff_datetime|passenger_count|trip_distance|RatecodeID|store_and_fwd_flag|PULocationID|DOLocationID|payment_type|fare_amount|extra|mta_tax|tip_amount|tolls_amount|improvement_surcharge|total_amount|congestion_surcharge|Airport_fee|cbd_congestion_fee|\n",
      "+--------+--------------------+---------------------+---------------+-------------+----------+------------------+------------+------------+------------+-----------+-----+-------+----------+------------+---------------------+------------+--------------------+-----------+------------------+\n",
      "|       2| 2025-01-01 10:48:53|  2025-01-01 10:52:59|              1|         2.61|         1|                 N|         132|          10|           2|       12.1|  0.0|    0.5|       0.0|         0.0|                  1.0|       15.35|                 0.0|       1.75|               0.0|\n",
      "|       2| 2025-01-01 13:09:45|  2025-01-01 13:14:33|              1|         0.83|         1|                 N|         151|         151|           1|        7.2|  0.0|    0.5|       1.0|         0.0|                  1.0|         9.7|                 0.0|        0.0|               0.0|\n",
      "|       2| 2025-01-01 14:55:27|  2025-01-01 15:05:29|              4|         1.87|         1|                 N|         158|         107|           2|       12.1|  0.0|    0.5|       0.0|         0.0|                  1.0|        16.1|                 2.5|        0.0|               0.0|\n",
      "|       2| 2025-01-01 16:43:57|  2025-01-01 17:03:32|              2|         4.58|         1|                 N|          88|          48|           1|       23.3|  0.0|    0.5|      5.46|         0.0|                  1.0|       32.76|                 2.5|        0.0|               0.0|\n",
      "|       2| 2025-01-01 19:11:48|  2025-01-01 19:34:20|              1|         4.11|         1|                 N|         132|         258|           1|       24.7|  0.0|    0.5|      6.55|         0.0|                  1.0|       32.75|                 0.0|        0.0|               0.0|\n",
      "+--------+--------------------+---------------------+---------------+-------------+----------+------------------+------------+------------+------------+-----------+-----+-------+----------+------------+---------------------+------------+--------------------+-----------+------------------+\n",
      "only showing top 5 rows\n"
     ]
    }
   ],
   "execution_count": 62
  },
  {
   "metadata": {
    "ExecuteTime": {
     "end_time": "2025-06-15T04:09:57.183516Z",
     "start_time": "2025-06-15T04:09:55.502145Z"
    }
   },
   "cell_type": "code",
   "source": [
    "from pyspark.sql.functions import count, when, col\n",
    "\n",
    "sample_df.select([count(when(col(c).isNull(), c)).alias(c) for c in df.columns]).show()\n"
   ],
   "id": "1c3b214b7dffcb2f",
   "outputs": [
    {
     "name": "stdout",
     "output_type": "stream",
     "text": [
      "+--------+--------------------+---------------------+---------------+-------------+----------+------------------+------------+------------+------------+-----------+-----+-------+----------+------------+---------------------+------------+--------------------+-----------+------------------+\n",
      "|VendorID|tpep_pickup_datetime|tpep_dropoff_datetime|passenger_count|trip_distance|RatecodeID|store_and_fwd_flag|PULocationID|DOLocationID|payment_type|fare_amount|extra|mta_tax|tip_amount|tolls_amount|improvement_surcharge|total_amount|congestion_surcharge|Airport_fee|cbd_congestion_fee|\n",
      "+--------+--------------------+---------------------+---------------+-------------+----------+------------------+------------+------------+------------+-----------+-----+-------+----------+------------+---------------------+------------+--------------------+-----------+------------------+\n",
      "|       0|                   0|                    0|              0|            0|         0|                 0|           0|           0|           0|          0|    0|      0|         0|           0|                    0|           0|                   0|          0|                 0|\n",
      "+--------+--------------------+---------------------+---------------+-------------+----------+------------------+------------+------------+------------+-----------+-----+-------+----------+------------+---------------------+------------+--------------------+-----------+------------------+\n",
      "\n"
     ]
    }
   ],
   "execution_count": 63
  },
  {
   "metadata": {
    "ExecuteTime": {
     "end_time": "2025-06-15T04:09:59.518990Z",
     "start_time": "2025-06-15T04:09:57.183516Z"
    }
   },
   "cell_type": "code",
   "source": "sample_df.describe().show()",
   "id": "dda1ecfb9517763a",
   "outputs": [
    {
     "name": "stdout",
     "output_type": "stream",
     "text": [
      "+-------+-------------------+------------------+-----------------+------------------+------------------+------------------+------------------+------------------+------------------+------------------+-------------------+------------------+------------------+---------------------+------------------+--------------------+-------------------+-------------------+\n",
      "|summary|           VendorID|   passenger_count|    trip_distance|        RatecodeID|store_and_fwd_flag|      PULocationID|      DOLocationID|      payment_type|       fare_amount|             extra|            mta_tax|        tip_amount|      tolls_amount|improvement_surcharge|      total_amount|congestion_surcharge|        Airport_fee| cbd_congestion_fee|\n",
      "+-------+-------------------+------------------+-----------------+------------------+------------------+------------------+------------------+------------------+------------------+------------------+-------------------+------------------+------------------+---------------------+------------------+--------------------+-------------------+-------------------+\n",
      "|  count|              28440|             28440|            28440|             28440|             28440|             28440|             28440|             28440|             28440|             28440|              28440|             28440|             28440|                28440|             28440|               28440|              28440|              28440|\n",
      "|   mean| 1.7775668073136428|1.3040084388185653| 3.17696308016879|2.2887482419127987|              NULL|167.03372011251759|166.88927566807314|1.1723980309423347|17.931606188466976|1.5911040787623065|  0.495771800281294|3.5477802390998074| 0.542145218002822|   0.9884317862165963|27.421531645569523|  2.3335091420534457|0.13143459915611813| 0.4911919831223629|\n",
      "| stddev|0.43570744743284673|0.7379621755271004|4.337706578127692|10.879985840811031|              NULL| 62.80187483704861| 68.58164408022209|0.4734125362257193|17.238183854524493|1.8885854856680284|0.05297309282101151|3.8298248947589593|2.1436591619217973|  0.10693358817744898|21.761726750293825|  0.6233150087906298|0.46124069105176413|0.35655138918771634|\n",
      "|    min|                  1|                 1|             0.01|                 1|                 N|                 1|                 1|                 1|               0.0|               0.0|                0.0|               0.0|               0.0|                  0.0|              3.25|                 0.0|                0.0|                0.0|\n",
      "|    max|                  7|                 6|            83.67|                99|                 Y|               265|               265|                 4|             553.2|              12.5|               4.75|             83.52|             37.94|                  1.0|             555.2|                 2.5|               1.75|               0.75|\n",
      "+-------+-------------------+------------------+-----------------+------------------+------------------+------------------+------------------+------------------+------------------+------------------+-------------------+------------------+------------------+---------------------+------------------+--------------------+-------------------+-------------------+\n",
      "\n"
     ]
    }
   ],
   "execution_count": 64
  },
  {
   "metadata": {
    "ExecuteTime": {
     "end_time": "2025-06-15T04:10:00.928447Z",
     "start_time": "2025-06-15T04:09:59.520990Z"
    }
   },
   "cell_type": "code",
   "source": [
    "df = df.filter(col(\"RatecodeID\").isin([1, 2, 3, 4, 5, 6])) \\\n",
    "       .filter(col(\"payment_type\").isin([0, 1, 2, 3, 4, 5, 6])) \\\n",
    "       .filter(col(\"store_and_fwd_flag\").isin([\"Y\", \"N\"]))\n",
    "\n",
    "print(sample_df.count())"
   ],
   "id": "ad64719be2de0fec",
   "outputs": [
    {
     "name": "stdout",
     "output_type": "stream",
     "text": [
      "28440\n"
     ]
    }
   ],
   "execution_count": 65
  },
  {
   "metadata": {
    "ExecuteTime": {
     "end_time": "2025-06-15T04:11:47.960294Z",
     "start_time": "2025-06-15T04:11:47.806342Z"
    }
   },
   "cell_type": "code",
   "source": [
    "from pyspark.sql.functions import year, month, dayofmonth, hour, dayofweek\n",
    "\n",
    "sample_df = sample_df.withColumn(\"year\", year(\"tpep_pickup_datetime\")) \\\n",
    "       .withColumn(\"month\", month(\"tpep_pickup_datetime\")) \\\n",
    "       .withColumn(\"day\", dayofmonth(\"tpep_pickup_datetime\")) \\\n",
    "       .withColumn(\"hour\", hour(\"tpep_pickup_datetime\")) \\\n",
    "       .withColumn(\"day_of_week\", dayofweek(\"tpep_pickup_datetime\"))  # 1=domingo, 7=sábado\n",
    "\n",
    "sample_df.show(5)"
   ],
   "id": "5f2f3f165bf200a2",
   "outputs": [
    {
     "name": "stdout",
     "output_type": "stream",
     "text": [
      "+--------+--------------------+---------------------+---------------+------------------+----------+------------------+------------+------------+------------+-----------+-----+-------+----------+------------+---------------------+------------+--------------------+-----------+------------------+-------------+----+-----+---+----+-----------+\n",
      "|VendorID|tpep_pickup_datetime|tpep_dropoff_datetime|passenger_count|     trip_distance|RatecodeID|store_and_fwd_flag|PULocationID|DOLocationID|payment_type|fare_amount|extra|mta_tax|tip_amount|tolls_amount|improvement_surcharge|total_amount|congestion_surcharge|Airport_fee|cbd_congestion_fee|trip_duration|year|month|day|hour|day_of_week|\n",
      "+--------+--------------------+---------------------+---------------+------------------+----------+------------------+------------+------------+------------+-----------+-----+-------+----------+------------+---------------------+------------+--------------------+-----------+------------------+-------------+----+-----+---+----+-----------+\n",
      "|       1| 2025-01-01 00:18:38|  2025-01-01 00:26:59|              1|2.5749440000000003|         1|                 N|         229|         237|           1|       10.0|  3.5|    0.5|       3.0|         0.0|                  1.0|        18.0|                 2.5|        0.0|               0.0|         8.35|2025|    1|  1|   0|          4|\n",
      "|       1| 2025-01-01 00:32:40|  2025-01-01 00:35:13|              1|           0.80467|         1|                 N|         236|         237|           1|        5.1|  3.5|    0.5|      2.02|         0.0|                  1.0|       12.12|                 2.5|        0.0|               0.0|         2.55|2025|    1|  1|   0|          4|\n",
      "|       1| 2025-01-01 00:44:04|  2025-01-01 00:46:01|              1|0.9656039999999999|         1|                 N|         141|         141|           1|        5.1|  3.5|    0.5|       2.0|         0.0|                  1.0|        12.1|                 2.5|        0.0|               0.0|         1.95|2025|    1|  1|   0|          4|\n",
      "|       2| 2025-01-01 00:14:27|  2025-01-01 00:20:01|              3|0.8368568000000001|         1|                 N|         244|         244|           2|        7.2|  1.0|    0.5|       0.0|         0.0|                  1.0|         9.7|                 0.0|        0.0|               0.0|         5.57|2025|    1|  1|   0|          4|\n",
      "|       2| 2025-01-01 00:21:34|  2025-01-01 00:25:06|              3|1.0621644000000001|         1|                 N|         244|         116|           2|        5.8|  1.0|    0.5|       0.0|         0.0|                  1.0|         8.3|                 0.0|        0.0|               0.0|         3.53|2025|    1|  1|   0|          4|\n",
      "+--------+--------------------+---------------------+---------------+------------------+----------+------------------+------------+------------+------------+-----------+-----+-------+----------+------------+---------------------+------------+--------------------+-----------+------------------+-------------+----+-----+---+----+-----------+\n",
      "only showing top 5 rows\n"
     ]
    }
   ],
   "execution_count": 75
  },
  {
   "metadata": {
    "ExecuteTime": {
     "end_time": "2025-06-15T04:11:48.892816Z",
     "start_time": "2025-06-15T04:11:48.873062Z"
    }
   },
   "cell_type": "code",
   "source": "sample_df.printSchema()",
   "id": "792f7778d6f1558d",
   "outputs": [
    {
     "name": "stdout",
     "output_type": "stream",
     "text": [
      "root\n",
      " |-- VendorID: integer (nullable = true)\n",
      " |-- tpep_pickup_datetime: timestamp_ntz (nullable = true)\n",
      " |-- tpep_dropoff_datetime: timestamp_ntz (nullable = true)\n",
      " |-- passenger_count: long (nullable = true)\n",
      " |-- trip_distance: double (nullable = true)\n",
      " |-- RatecodeID: long (nullable = true)\n",
      " |-- store_and_fwd_flag: string (nullable = true)\n",
      " |-- PULocationID: integer (nullable = true)\n",
      " |-- DOLocationID: integer (nullable = true)\n",
      " |-- payment_type: long (nullable = true)\n",
      " |-- fare_amount: double (nullable = true)\n",
      " |-- extra: double (nullable = true)\n",
      " |-- mta_tax: double (nullable = true)\n",
      " |-- tip_amount: double (nullable = true)\n",
      " |-- tolls_amount: double (nullable = true)\n",
      " |-- improvement_surcharge: double (nullable = true)\n",
      " |-- total_amount: double (nullable = true)\n",
      " |-- congestion_surcharge: double (nullable = true)\n",
      " |-- Airport_fee: double (nullable = true)\n",
      " |-- cbd_congestion_fee: double (nullable = true)\n",
      " |-- trip_duration: double (nullable = true)\n",
      " |-- year: integer (nullable = true)\n",
      " |-- month: integer (nullable = true)\n",
      " |-- day: integer (nullable = true)\n",
      " |-- hour: integer (nullable = true)\n",
      " |-- day_of_week: integer (nullable = true)\n",
      "\n"
     ]
    }
   ],
   "execution_count": 76
  },
  {
   "metadata": {
    "ExecuteTime": {
     "end_time": "2025-06-15T04:11:54.499103Z",
     "start_time": "2025-06-15T04:11:54.361147Z"
    }
   },
   "cell_type": "code",
   "source": [
    "from pyspark.sql.functions import unix_timestamp, round\n",
    "\n",
    "sample_df = df.withColumn(\"trip_duration\", round((unix_timestamp(\"tpep_dropoff_datetime\") - unix_timestamp(\"tpep_pickup_datetime\")) / 60, 2))\n",
    "\n",
    "sample_df.show(5)"
   ],
   "id": "1191b7d3c01f86c9",
   "outputs": [
    {
     "name": "stdout",
     "output_type": "stream",
     "text": [
      "+--------+--------------------+---------------------+---------------+-------------+----------+------------------+------------+------------+------------+-----------+-----+-------+----------+------------+---------------------+------------+--------------------+-----------+------------------+-------------+\n",
      "|VendorID|tpep_pickup_datetime|tpep_dropoff_datetime|passenger_count|trip_distance|RatecodeID|store_and_fwd_flag|PULocationID|DOLocationID|payment_type|fare_amount|extra|mta_tax|tip_amount|tolls_amount|improvement_surcharge|total_amount|congestion_surcharge|Airport_fee|cbd_congestion_fee|trip_duration|\n",
      "+--------+--------------------+---------------------+---------------+-------------+----------+------------------+------------+------------+------------+-----------+-----+-------+----------+------------+---------------------+------------+--------------------+-----------+------------------+-------------+\n",
      "|       1| 2025-01-01 00:18:38|  2025-01-01 00:26:59|              1|          1.6|         1|                 N|         229|         237|           1|       10.0|  3.5|    0.5|       3.0|         0.0|                  1.0|        18.0|                 2.5|        0.0|               0.0|         8.35|\n",
      "|       1| 2025-01-01 00:32:40|  2025-01-01 00:35:13|              1|          0.5|         1|                 N|         236|         237|           1|        5.1|  3.5|    0.5|      2.02|         0.0|                  1.0|       12.12|                 2.5|        0.0|               0.0|         2.55|\n",
      "|       1| 2025-01-01 00:44:04|  2025-01-01 00:46:01|              1|          0.6|         1|                 N|         141|         141|           1|        5.1|  3.5|    0.5|       2.0|         0.0|                  1.0|        12.1|                 2.5|        0.0|               0.0|         1.95|\n",
      "|       2| 2025-01-01 00:14:27|  2025-01-01 00:20:01|              3|         0.52|         1|                 N|         244|         244|           2|        7.2|  1.0|    0.5|       0.0|         0.0|                  1.0|         9.7|                 0.0|        0.0|               0.0|         5.57|\n",
      "|       2| 2025-01-01 00:21:34|  2025-01-01 00:25:06|              3|         0.66|         1|                 N|         244|         116|           2|        5.8|  1.0|    0.5|       0.0|         0.0|                  1.0|         8.3|                 0.0|        0.0|               0.0|         3.53|\n",
      "+--------+--------------------+---------------------+---------------+-------------+----------+------------------+------------+------------+------------+-----------+-----+-------+----------+------------+---------------------+------------+--------------------+-----------+------------------+-------------+\n",
      "only showing top 5 rows\n"
     ]
    }
   ],
   "execution_count": 77
  },
  {
   "metadata": {
    "ExecuteTime": {
     "end_time": "2025-06-15T04:12:03.656865Z",
     "start_time": "2025-06-15T04:12:03.639873Z"
    }
   },
   "cell_type": "code",
   "source": "sample_df.printSchema()",
   "id": "e97f61612dce621e",
   "outputs": [
    {
     "name": "stdout",
     "output_type": "stream",
     "text": [
      "root\n",
      " |-- VendorID: integer (nullable = true)\n",
      " |-- tpep_pickup_datetime: timestamp_ntz (nullable = true)\n",
      " |-- tpep_dropoff_datetime: timestamp_ntz (nullable = true)\n",
      " |-- passenger_count: long (nullable = true)\n",
      " |-- trip_distance: double (nullable = true)\n",
      " |-- RatecodeID: long (nullable = true)\n",
      " |-- store_and_fwd_flag: string (nullable = true)\n",
      " |-- PULocationID: integer (nullable = true)\n",
      " |-- DOLocationID: integer (nullable = true)\n",
      " |-- payment_type: long (nullable = true)\n",
      " |-- fare_amount: double (nullable = true)\n",
      " |-- extra: double (nullable = true)\n",
      " |-- mta_tax: double (nullable = true)\n",
      " |-- tip_amount: double (nullable = true)\n",
      " |-- tolls_amount: double (nullable = true)\n",
      " |-- improvement_surcharge: double (nullable = true)\n",
      " |-- total_amount: double (nullable = true)\n",
      " |-- congestion_surcharge: double (nullable = true)\n",
      " |-- Airport_fee: double (nullable = true)\n",
      " |-- cbd_congestion_fee: double (nullable = true)\n",
      " |-- trip_duration: double (nullable = true)\n",
      "\n"
     ]
    }
   ],
   "execution_count": 78
  },
  {
   "metadata": {
    "ExecuteTime": {
     "end_time": "2025-06-15T04:11:09.111742Z",
     "start_time": "2025-06-15T04:11:08.959791Z"
    }
   },
   "cell_type": "code",
   "source": [
    "sample_df = sample_df.withColumn(\"trip_distance\", col(\"trip_distance\") * 1.60934)\n",
    "\n",
    "sample_df.show(5)"
   ],
   "id": "37e97d484ca15dd5",
   "outputs": [
    {
     "name": "stdout",
     "output_type": "stream",
     "text": [
      "+--------+--------------------+---------------------+---------------+------------------+----------+------------------+------------+------------+------------+-----------+-----+-------+----------+------------+---------------------+------------+--------------------+-----------+------------------+-------------+\n",
      "|VendorID|tpep_pickup_datetime|tpep_dropoff_datetime|passenger_count|     trip_distance|RatecodeID|store_and_fwd_flag|PULocationID|DOLocationID|payment_type|fare_amount|extra|mta_tax|tip_amount|tolls_amount|improvement_surcharge|total_amount|congestion_surcharge|Airport_fee|cbd_congestion_fee|trip_duration|\n",
      "+--------+--------------------+---------------------+---------------+------------------+----------+------------------+------------+------------+------------+-----------+-----+-------+----------+------------+---------------------+------------+--------------------+-----------+------------------+-------------+\n",
      "|       1| 2025-01-01 00:18:38|  2025-01-01 00:26:59|              1|2.5749440000000003|         1|                 N|         229|         237|           1|       10.0|  3.5|    0.5|       3.0|         0.0|                  1.0|        18.0|                 2.5|        0.0|               0.0|         8.35|\n",
      "|       1| 2025-01-01 00:32:40|  2025-01-01 00:35:13|              1|           0.80467|         1|                 N|         236|         237|           1|        5.1|  3.5|    0.5|      2.02|         0.0|                  1.0|       12.12|                 2.5|        0.0|               0.0|         2.55|\n",
      "|       1| 2025-01-01 00:44:04|  2025-01-01 00:46:01|              1|0.9656039999999999|         1|                 N|         141|         141|           1|        5.1|  3.5|    0.5|       2.0|         0.0|                  1.0|        12.1|                 2.5|        0.0|               0.0|         1.95|\n",
      "|       2| 2025-01-01 00:14:27|  2025-01-01 00:20:01|              3|0.8368568000000001|         1|                 N|         244|         244|           2|        7.2|  1.0|    0.5|       0.0|         0.0|                  1.0|         9.7|                 0.0|        0.0|               0.0|         5.57|\n",
      "|       2| 2025-01-01 00:21:34|  2025-01-01 00:25:06|              3|1.0621644000000001|         1|                 N|         244|         116|           2|        5.8|  1.0|    0.5|       0.0|         0.0|                  1.0|         8.3|                 0.0|        0.0|               0.0|         3.53|\n",
      "+--------+--------------------+---------------------+---------------+------------------+----------+------------------+------------+------------+------------+-----------+-----+-------+----------+------------+---------------------+------------+--------------------+-----------+------------------+-------------+\n",
      "only showing top 5 rows\n"
     ]
    }
   ],
   "execution_count": 73
  },
  {
   "metadata": {
    "ExecuteTime": {
     "end_time": "2025-06-15T04:11:10.026344Z",
     "start_time": "2025-06-15T04:11:10.014349Z"
    }
   },
   "cell_type": "code",
   "source": "sample_df.printSchema()",
   "id": "3887b6eb680793e6",
   "outputs": [
    {
     "name": "stdout",
     "output_type": "stream",
     "text": [
      "root\n",
      " |-- VendorID: integer (nullable = true)\n",
      " |-- tpep_pickup_datetime: timestamp_ntz (nullable = true)\n",
      " |-- tpep_dropoff_datetime: timestamp_ntz (nullable = true)\n",
      " |-- passenger_count: long (nullable = true)\n",
      " |-- trip_distance: double (nullable = true)\n",
      " |-- RatecodeID: long (nullable = true)\n",
      " |-- store_and_fwd_flag: string (nullable = true)\n",
      " |-- PULocationID: integer (nullable = true)\n",
      " |-- DOLocationID: integer (nullable = true)\n",
      " |-- payment_type: long (nullable = true)\n",
      " |-- fare_amount: double (nullable = true)\n",
      " |-- extra: double (nullable = true)\n",
      " |-- mta_tax: double (nullable = true)\n",
      " |-- tip_amount: double (nullable = true)\n",
      " |-- tolls_amount: double (nullable = true)\n",
      " |-- improvement_surcharge: double (nullable = true)\n",
      " |-- total_amount: double (nullable = true)\n",
      " |-- congestion_surcharge: double (nullable = true)\n",
      " |-- Airport_fee: double (nullable = true)\n",
      " |-- cbd_congestion_fee: double (nullable = true)\n",
      " |-- trip_duration: double (nullable = true)\n",
      "\n"
     ]
    }
   ],
   "execution_count": 74
  },
  {
   "metadata": {
    "ExecuteTime": {
     "end_time": "2025-06-15T04:10:53.420927Z",
     "start_time": "2025-06-15T04:10:53.285970Z"
    }
   },
   "cell_type": "code",
   "source": "sample_df.show(5)",
   "id": "a115afe693f87532",
   "outputs": [
    {
     "name": "stdout",
     "output_type": "stream",
     "text": [
      "+--------+--------------------+---------------------+---------------+------------------+----------+------------------+------------+------------+------------+-----------+-----+-------+----------+------------+---------------------+------------+--------------------+-----------+------------------+-------------+\n",
      "|VendorID|tpep_pickup_datetime|tpep_dropoff_datetime|passenger_count|     trip_distance|RatecodeID|store_and_fwd_flag|PULocationID|DOLocationID|payment_type|fare_amount|extra|mta_tax|tip_amount|tolls_amount|improvement_surcharge|total_amount|congestion_surcharge|Airport_fee|cbd_congestion_fee|trip_duration|\n",
      "+--------+--------------------+---------------------+---------------+------------------+----------+------------------+------------+------------+------------+-----------+-----+-------+----------+------------+---------------------+------------+--------------------+-----------+------------------+-------------+\n",
      "|       1| 2025-01-01 00:18:38|  2025-01-01 00:26:59|              1|2.5749440000000003|         1|                 N|         229|         237|           1|       10.0|  3.5|    0.5|       3.0|         0.0|                  1.0|        18.0|                 2.5|        0.0|               0.0|         8.35|\n",
      "|       1| 2025-01-01 00:32:40|  2025-01-01 00:35:13|              1|           0.80467|         1|                 N|         236|         237|           1|        5.1|  3.5|    0.5|      2.02|         0.0|                  1.0|       12.12|                 2.5|        0.0|               0.0|         2.55|\n",
      "|       1| 2025-01-01 00:44:04|  2025-01-01 00:46:01|              1|0.9656039999999999|         1|                 N|         141|         141|           1|        5.1|  3.5|    0.5|       2.0|         0.0|                  1.0|        12.1|                 2.5|        0.0|               0.0|         1.95|\n",
      "|       2| 2025-01-01 00:14:27|  2025-01-01 00:20:01|              3|0.8368568000000001|         1|                 N|         244|         244|           2|        7.2|  1.0|    0.5|       0.0|         0.0|                  1.0|         9.7|                 0.0|        0.0|               0.0|         5.57|\n",
      "|       2| 2025-01-01 00:21:34|  2025-01-01 00:25:06|              3|1.0621644000000001|         1|                 N|         244|         116|           2|        5.8|  1.0|    0.5|       0.0|         0.0|                  1.0|         8.3|                 0.0|        0.0|               0.0|         3.53|\n",
      "+--------+--------------------+---------------------+---------------+------------------+----------+------------------+------------+------------+------------+-----------+-----+-------+----------+------------+---------------------+------------+--------------------+-----------+------------------+-------------+\n",
      "only showing top 5 rows\n"
     ]
    }
   ],
   "execution_count": 70
  },
  {
   "metadata": {},
   "cell_type": "code",
   "outputs": [],
   "execution_count": null,
   "source": "",
   "id": "b785562327e1cfef"
  }
 ],
 "metadata": {
  "kernelspec": {
   "display_name": "Python 3",
   "language": "python",
   "name": "python3"
  },
  "language_info": {
   "codemirror_mode": {
    "name": "ipython",
    "version": 2
   },
   "file_extension": ".py",
   "mimetype": "text/x-python",
   "name": "python",
   "nbconvert_exporter": "python",
   "pygments_lexer": "ipython2",
   "version": "2.7.6"
  }
 },
 "nbformat": 4,
 "nbformat_minor": 5
}
