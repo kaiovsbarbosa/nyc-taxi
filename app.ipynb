{
 "cells": [
  {
   "cell_type": "code",
   "id": "initial_id",
   "metadata": {
    "collapsed": true,
    "ExecuteTime": {
     "end_time": "2025-06-15T04:17:17.647741Z",
     "start_time": "2025-06-15T04:17:17.634746Z"
    }
   },
   "source": [
    "from pyspark.sql import SparkSession\n",
    "from pyspark.sql import Row, DataFrame\n",
    "from pyspark.sql.types import StringType, StructType, StructField, IntegerType\n",
    "from pyspark.sql.functions import col, expr, lit, substring, concat, concat_ws, when, coalesce\n",
    "from pyspark.sql import functions as F\n",
    "from functools import reduce\n",
    "\n",
    "spark = SparkSession.builder.master(\"local[1]\") \\\n",
    "                    .appName('nyc-taxi.com') \\\n",
    "                    .getOrCreate()"
   ],
   "outputs": [],
   "execution_count": 81
  },
  {
   "metadata": {
    "ExecuteTime": {
     "end_time": "2025-06-15T04:17:18.114413Z",
     "start_time": "2025-06-15T04:17:17.744534Z"
    }
   },
   "cell_type": "code",
   "source": [
    "df = spark.read.parquet('data/yellow_tripdata_2025-01.parquet', header=True, inferSchema=True)\n",
    "sample_df = df.sample(withReplacement=False, fraction=0.01, seed=42)\n",
    "\n",
    "print(\"Total original:\", df.count())\n",
    "print(\"Total amostrado:\", sample_df.count())"
   ],
   "id": "f199ecebb68e48c3",
   "outputs": [
    {
     "name": "stdout",
     "output_type": "stream",
     "text": [
      "Total original: 3475226\n",
      "Total amostrado: 35082\n"
     ]
    }
   ],
   "execution_count": 82
  },
  {
   "metadata": {
    "ExecuteTime": {
     "end_time": "2025-06-15T04:28:35.369891Z",
     "start_time": "2025-06-15T04:28:33.746424Z"
    }
   },
   "cell_type": "code",
   "source": "sample_df.show()",
   "id": "4d7f9cd750b86799",
   "outputs": [
    {
     "name": "stdout",
     "output_type": "stream",
     "text": [
      "+--------+--------------------+---------------------+---------------+------------------+----------+------------------+------------+------------+------------+-----------+-----+-------+----------+------------+---------------------+------------+--------------------+-----------+------------------+----+-----+---+----+-----------+-------------+\n",
      "|VendorID|tpep_pickup_datetime|tpep_dropoff_datetime|passenger_count|     trip_distance|RatecodeID|store_and_fwd_flag|PULocationID|DOLocationID|payment_type|fare_amount|extra|mta_tax|tip_amount|tolls_amount|improvement_surcharge|total_amount|congestion_surcharge|Airport_fee|cbd_congestion_fee|year|month|day|hour|day_of_week|trip_duration|\n",
      "+--------+--------------------+---------------------+---------------+------------------+----------+------------------+------------+------------+------------+-----------+-----+-------+----------+------------+---------------------+------------+--------------------+-----------+------------------+----+-----+---+----+-----------+-------------+\n",
      "|       2| 2025-01-01 10:48:53|  2025-01-01 10:52:59|              1|         4.2003774|         1|                 N|         132|          10|           2|       12.1|  0.0|    0.5|       0.0|         0.0|                  1.0|       15.35|                 0.0|       1.75|               0.0|2025|    1|  1|  10|          4|          4.1|\n",
      "|       2| 2025-01-01 13:09:45|  2025-01-01 13:14:33|              1|         1.3357522|         1|                 N|         151|         151|           1|        7.2|  0.0|    0.5|       1.0|         0.0|                  1.0|         9.7|                 0.0|        0.0|               0.0|2025|    1|  1|  13|          4|          4.8|\n",
      "|       2| 2025-01-01 14:55:27|  2025-01-01 15:05:29|              4|         3.0094658|         1|                 N|         158|         107|           2|       12.1|  0.0|    0.5|       0.0|         0.0|                  1.0|        16.1|                 2.5|        0.0|               0.0|2025|    1|  1|  14|          4|        10.03|\n",
      "|       2| 2025-01-01 16:43:57|  2025-01-01 17:03:32|              2|         7.3707772|         1|                 N|          88|          48|           1|       23.3|  0.0|    0.5|      5.46|         0.0|                  1.0|       32.76|                 2.5|        0.0|               0.0|2025|    1|  1|  16|          4|        19.58|\n",
      "|       2| 2025-01-01 19:11:48|  2025-01-01 19:34:20|              1| 6.614387400000001|         1|                 N|         132|         258|           1|       24.7|  0.0|    0.5|      6.55|         0.0|                  1.0|       32.75|                 0.0|        0.0|               0.0|2025|    1|  1|  19|          4|        22.53|\n",
      "|       2| 2025-01-02 15:26:29|  2025-01-02 15:49:43|              4|         4.6831794|         1|                 N|         144|         186|           1|      21.94|  0.0|    0.5|       0.0|         0.0|                  1.0|       25.94|                 2.5|        0.0|               0.0|2025|    1|  2|  15|          5|        23.23|\n",
      "|       2| 2025-01-03 07:37:21|  2025-01-03 07:47:21|              1|         2.9450922|         1|                 N|         186|         161|           1|       11.4|  0.0|    0.5|      3.08|         0.0|                  1.0|       18.48|                 2.5|        0.0|               0.0|2025|    1|  3|   7|          6|         10.0|\n",
      "|       2| 2025-01-03 17:49:45|  2025-01-03 17:56:54|              2|         1.4966862|         1|                 N|         238|         239|           2|        8.6|  2.5|    0.5|       0.0|         0.0|                  1.0|        15.1|                 2.5|        0.0|               0.0|2025|    1|  3|  17|          6|         7.15|\n",
      "|       2| 2025-01-04 09:17:42|  2025-01-04 09:20:44|              1|         1.0138842|         1|                 N|         141|         229|           2|        5.8|  0.0|    0.5|       0.0|         0.0|                  1.0|         9.8|                 2.5|        0.0|               0.0|2025|    1|  4|   9|          7|         3.03|\n",
      "|       2| 2025-01-04 13:50:51|  2025-01-04 14:04:40|              5|         4.1520972|         1|                 N|         186|         231|           2|       15.6|  0.0|    0.5|       0.0|         0.0|                  1.0|        19.6|                 2.5|        0.0|               0.0|2025|    1|  4|  13|          7|        13.82|\n",
      "|       1| 2025-01-04 18:31:26|  2025-01-04 18:44:57|              2|          5.471756|         1|                 N|         264|         142|           1|       18.4|  2.5|    0.5|       4.5|         0.0|                  1.0|        26.9|                 2.5|        0.0|               0.0|2025|    1|  4|  18|          7|        13.52|\n",
      "|       2| 2025-01-04 21:43:41|  2025-01-04 21:52:30|              2|         2.6071308|         1|                 N|         142|         238|           1|       11.4|  1.0|    0.5|      3.28|         0.0|                  1.0|       19.68|                 2.5|        0.0|               0.0|2025|    1|  4|  21|          7|         8.82|\n",
      "|       2| 2025-01-05 09:19:24|  2025-01-05 09:35:03|              1|         7.9179528|         1|                 N|         238|         113|           1|       22.6|  0.0|    0.5|       4.0|         0.0|                  1.0|       31.35|                 2.5|        0.0|              0.75|2025|    1|  5|   9|          1|        15.65|\n",
      "|       2| 2025-01-05 10:53:13|  2025-01-05 11:03:44|              5|           4.82802|         1|                 N|          79|         230|           1|       14.2|  0.0|    0.5|       4.0|         0.0|                  1.0|       22.95|                 2.5|        0.0|              0.75|2025|    1|  5|  10|          1|        10.52|\n",
      "|       2| 2025-01-05 13:43:32|  2025-01-05 13:48:45|              1|1.6737136000000001|         1|                 N|         237|         263|           2|        7.9|  0.0|    0.5|       0.0|         0.0|                  1.0|        11.9|                 2.5|        0.0|               0.0|2025|    1|  5|  13|          1|         5.22|\n",
      "|       2| 2025-01-05 17:16:29|  2025-01-05 17:21:15|              1|         1.2552852|         1|                 N|         234|         170|           1|        7.2|  0.0|    0.5|      2.39|         0.0|                  1.0|       14.34|                 2.5|        0.0|              0.75|2025|    1|  5|  17|          1|         4.77|\n",
      "|       2| 2025-01-06 12:04:08|  2025-01-06 12:26:52|              1|14.001257999999998|         1|                 N|         138|         140|           1|       36.6|  5.0|    0.5|       5.0|        6.94|                  1.0|       59.29|                 2.5|       1.75|               0.0|2025|    1|  6|  12|          2|        22.73|\n",
      "|       2| 2025-01-06 12:03:29|  2025-01-06 12:08:56|              3|         1.4162192|         1|                 N|         238|         238|           1|        7.2|  0.0|    0.5|      2.24|         0.0|                  1.0|       13.44|                 2.5|        0.0|               0.0|2025|    1|  6|  12|          2|         5.45|\n",
      "|       1| 2025-01-06 14:04:15|  2025-01-06 14:14:45|              1|3.5405480000000003|         1|                 N|         244|         166|           1|       12.1|  0.0|    0.5|       3.4|         0.0|                  1.0|        17.0|                 0.0|        0.0|               0.0|2025|    1|  6|  14|          2|         10.5|\n",
      "|       2| 2025-01-07 08:52:51|  2025-01-07 09:02:33|              1|         2.9289988|         1|                 N|         186|         113|           1|       10.7|  0.0|    0.5|      3.86|         0.0|                  1.0|       19.31|                 2.5|        0.0|              0.75|2025|    1|  7|   8|          3|          9.7|\n",
      "+--------+--------------------+---------------------+---------------+------------------+----------+------------------+------------+------------+------------+-----------+-----+-------+----------+------------+---------------------+------------+--------------------+-----------+------------------+----+-----+---+----+-----------+-------------+\n",
      "only showing top 20 rows\n"
     ]
    }
   ],
   "execution_count": 115
  },
  {
   "metadata": {
    "ExecuteTime": {
     "end_time": "2025-06-15T04:17:18.285357Z",
     "start_time": "2025-06-15T04:17:18.271363Z"
    }
   },
   "cell_type": "code",
   "source": "sample_df.printSchema()",
   "id": "56aa64e147f4d85e",
   "outputs": [
    {
     "name": "stdout",
     "output_type": "stream",
     "text": [
      "root\n",
      " |-- VendorID: integer (nullable = true)\n",
      " |-- tpep_pickup_datetime: timestamp_ntz (nullable = true)\n",
      " |-- tpep_dropoff_datetime: timestamp_ntz (nullable = true)\n",
      " |-- passenger_count: long (nullable = true)\n",
      " |-- trip_distance: double (nullable = true)\n",
      " |-- RatecodeID: long (nullable = true)\n",
      " |-- store_and_fwd_flag: string (nullable = true)\n",
      " |-- PULocationID: integer (nullable = true)\n",
      " |-- DOLocationID: integer (nullable = true)\n",
      " |-- payment_type: long (nullable = true)\n",
      " |-- fare_amount: double (nullable = true)\n",
      " |-- extra: double (nullable = true)\n",
      " |-- mta_tax: double (nullable = true)\n",
      " |-- tip_amount: double (nullable = true)\n",
      " |-- tolls_amount: double (nullable = true)\n",
      " |-- improvement_surcharge: double (nullable = true)\n",
      " |-- total_amount: double (nullable = true)\n",
      " |-- congestion_surcharge: double (nullable = true)\n",
      " |-- Airport_fee: double (nullable = true)\n",
      " |-- cbd_congestion_fee: double (nullable = true)\n",
      "\n"
     ]
    }
   ],
   "execution_count": 84
  },
  {
   "metadata": {
    "ExecuteTime": {
     "end_time": "2025-06-15T04:17:18.502286Z",
     "start_time": "2025-06-15T04:17:18.290357Z"
    }
   },
   "cell_type": "code",
   "source": [
    "print(sample_df.count())\n",
    "print(df.count())"
   ],
   "id": "4c88bab2ac0dd62b",
   "outputs": [
    {
     "name": "stdout",
     "output_type": "stream",
     "text": [
      "35082\n",
      "3475226\n"
     ]
    }
   ],
   "execution_count": 85
  },
  {
   "metadata": {},
   "cell_type": "markdown",
   "source": "Limpeza, filtragem e transformação de dados.",
   "id": "5844e77f1674f91d"
  },
  {
   "metadata": {
    "ExecuteTime": {
     "end_time": "2025-06-15T04:17:19.465725Z",
     "start_time": "2025-06-15T04:17:18.504285Z"
    }
   },
   "cell_type": "code",
   "source": [
    "from pyspark.sql.functions import count, when, col\n",
    "\n",
    "sample_df.select([count(when(col(c).isNull(), c)).alias(c) for c in df.columns]).show()\n"
   ],
   "id": "a200257132f8ade6",
   "outputs": [
    {
     "name": "stdout",
     "output_type": "stream",
     "text": [
      "+--------+--------------------+---------------------+---------------+-------------+----------+------------------+------------+------------+------------+-----------+-----+-------+----------+------------+---------------------+------------+--------------------+-----------+------------------+\n",
      "|VendorID|tpep_pickup_datetime|tpep_dropoff_datetime|passenger_count|trip_distance|RatecodeID|store_and_fwd_flag|PULocationID|DOLocationID|payment_type|fare_amount|extra|mta_tax|tip_amount|tolls_amount|improvement_surcharge|total_amount|congestion_surcharge|Airport_fee|cbd_congestion_fee|\n",
      "+--------+--------------------+---------------------+---------------+-------------+----------+------------------+------------+------------+------------+-----------+-----+-------+----------+------------+---------------------+------------+--------------------+-----------+------------------+\n",
      "|       0|                   0|                    0|           5483|            0|      5483|              5483|           0|           0|           0|          0|    0|      0|         0|           0|                    0|           0|                5483|       5483|                 0|\n",
      "+--------+--------------------+---------------------+---------------+-------------+----------+------------------+------------+------------+------------+-----------+-----+-------+----------+------------+---------------------+------------+--------------------+-----------+------------------+\n",
      "\n"
     ]
    }
   ],
   "execution_count": 86
  },
  {
   "metadata": {
    "ExecuteTime": {
     "end_time": "2025-06-15T04:17:21.005577Z",
     "start_time": "2025-06-15T04:17:19.467725Z"
    }
   },
   "cell_type": "code",
   "source": [
    "sample_df = sample_df.dropDuplicates()\n",
    "print('df.count após dropar duplicatas: ', sample_df.count())"
   ],
   "id": "8d84ef3cf4a9c869",
   "outputs": [
    {
     "name": "stdout",
     "output_type": "stream",
     "text": [
      "df.count após dropar duplicatas:  35082\n"
     ]
    }
   ],
   "execution_count": 87
  },
  {
   "metadata": {
    "ExecuteTime": {
     "end_time": "2025-06-15T04:17:22.202054Z",
     "start_time": "2025-06-15T04:17:21.008576Z"
    }
   },
   "cell_type": "code",
   "source": [
    "sample_df = sample_df.filter(col(\"tpep_pickup_datetime\").isNotNull()) \\\n",
    "       .filter(col(\"tpep_dropoff_datetime\").isNotNull()) \\\n",
    "       .filter(col(\"trip_distance\") > 0) \\\n",
    "       .filter(col(\"fare_amount\") >= 0) \\\n",
    "       .filter(col(\"total_amount\") > 0) \\\n",
    "       .filter(col(\"passenger_count\") > 0) \\\n",
    "       .filter(col(\"RatecodeID\").isNotNull()) \\\n",
    "       .filter(col(\"passenger_count\").isNotNull()) \\\n",
    "       .filter(col(\"store_and_fwd_flag\").isNotNull()) \\\n",
    "       .filter(col(\"congestion_surcharge\").isNotNull()) \\\n",
    "       .filter(col(\"Airport_fee\").isNotNull())\n",
    "\n",
    "print(sample_df.count())"
   ],
   "id": "751bc5a4394fd7c0",
   "outputs": [
    {
     "name": "stdout",
     "output_type": "stream",
     "text": [
      "28440\n"
     ]
    }
   ],
   "execution_count": 88
  },
  {
   "metadata": {
    "ExecuteTime": {
     "end_time": "2025-06-15T04:17:23.335402Z",
     "start_time": "2025-06-15T04:17:22.204052Z"
    }
   },
   "cell_type": "code",
   "source": "sample_df.show(5)",
   "id": "40c1cd828d243582",
   "outputs": [
    {
     "name": "stdout",
     "output_type": "stream",
     "text": [
      "+--------+--------------------+---------------------+---------------+-------------+----------+------------------+------------+------------+------------+-----------+-----+-------+----------+------------+---------------------+------------+--------------------+-----------+------------------+\n",
      "|VendorID|tpep_pickup_datetime|tpep_dropoff_datetime|passenger_count|trip_distance|RatecodeID|store_and_fwd_flag|PULocationID|DOLocationID|payment_type|fare_amount|extra|mta_tax|tip_amount|tolls_amount|improvement_surcharge|total_amount|congestion_surcharge|Airport_fee|cbd_congestion_fee|\n",
      "+--------+--------------------+---------------------+---------------+-------------+----------+------------------+------------+------------+------------+-----------+-----+-------+----------+------------+---------------------+------------+--------------------+-----------+------------------+\n",
      "|       2| 2025-01-01 10:48:53|  2025-01-01 10:52:59|              1|         2.61|         1|                 N|         132|          10|           2|       12.1|  0.0|    0.5|       0.0|         0.0|                  1.0|       15.35|                 0.0|       1.75|               0.0|\n",
      "|       2| 2025-01-01 13:09:45|  2025-01-01 13:14:33|              1|         0.83|         1|                 N|         151|         151|           1|        7.2|  0.0|    0.5|       1.0|         0.0|                  1.0|         9.7|                 0.0|        0.0|               0.0|\n",
      "|       2| 2025-01-01 14:55:27|  2025-01-01 15:05:29|              4|         1.87|         1|                 N|         158|         107|           2|       12.1|  0.0|    0.5|       0.0|         0.0|                  1.0|        16.1|                 2.5|        0.0|               0.0|\n",
      "|       2| 2025-01-01 16:43:57|  2025-01-01 17:03:32|              2|         4.58|         1|                 N|          88|          48|           1|       23.3|  0.0|    0.5|      5.46|         0.0|                  1.0|       32.76|                 2.5|        0.0|               0.0|\n",
      "|       2| 2025-01-01 19:11:48|  2025-01-01 19:34:20|              1|         4.11|         1|                 N|         132|         258|           1|       24.7|  0.0|    0.5|      6.55|         0.0|                  1.0|       32.75|                 0.0|        0.0|               0.0|\n",
      "+--------+--------------------+---------------------+---------------+-------------+----------+------------------+------------+------------+------------+-----------+-----+-------+----------+------------+---------------------+------------+--------------------+-----------+------------------+\n",
      "only showing top 5 rows\n"
     ]
    }
   ],
   "execution_count": 89
  },
  {
   "metadata": {
    "ExecuteTime": {
     "end_time": "2025-06-15T04:17:24.779494Z",
     "start_time": "2025-06-15T04:17:23.337848Z"
    }
   },
   "cell_type": "code",
   "source": [
    "from pyspark.sql.functions import count, when, col\n",
    "\n",
    "sample_df.select([count(when(col(c).isNull(), c)).alias(c) for c in df.columns]).show()\n"
   ],
   "id": "1c3b214b7dffcb2f",
   "outputs": [
    {
     "name": "stdout",
     "output_type": "stream",
     "text": [
      "+--------+--------------------+---------------------+---------------+-------------+----------+------------------+------------+------------+------------+-----------+-----+-------+----------+------------+---------------------+------------+--------------------+-----------+------------------+\n",
      "|VendorID|tpep_pickup_datetime|tpep_dropoff_datetime|passenger_count|trip_distance|RatecodeID|store_and_fwd_flag|PULocationID|DOLocationID|payment_type|fare_amount|extra|mta_tax|tip_amount|tolls_amount|improvement_surcharge|total_amount|congestion_surcharge|Airport_fee|cbd_congestion_fee|\n",
      "+--------+--------------------+---------------------+---------------+-------------+----------+------------------+------------+------------+------------+-----------+-----+-------+----------+------------+---------------------+------------+--------------------+-----------+------------------+\n",
      "|       0|                   0|                    0|              0|            0|         0|                 0|           0|           0|           0|          0|    0|      0|         0|           0|                    0|           0|                   0|          0|                 0|\n",
      "+--------+--------------------+---------------------+---------------+-------------+----------+------------------+------------+------------+------------+-----------+-----+-------+----------+------------+---------------------+------------+--------------------+-----------+------------------+\n",
      "\n"
     ]
    }
   ],
   "execution_count": 90
  },
  {
   "metadata": {
    "ExecuteTime": {
     "end_time": "2025-06-15T04:17:27.030287Z",
     "start_time": "2025-06-15T04:17:24.783495Z"
    }
   },
   "cell_type": "code",
   "source": "sample_df.describe().show()",
   "id": "dda1ecfb9517763a",
   "outputs": [
    {
     "name": "stdout",
     "output_type": "stream",
     "text": [
      "+-------+-------------------+------------------+-----------------+------------------+------------------+------------------+------------------+------------------+------------------+------------------+-------------------+------------------+------------------+---------------------+------------------+--------------------+-------------------+-------------------+\n",
      "|summary|           VendorID|   passenger_count|    trip_distance|        RatecodeID|store_and_fwd_flag|      PULocationID|      DOLocationID|      payment_type|       fare_amount|             extra|            mta_tax|        tip_amount|      tolls_amount|improvement_surcharge|      total_amount|congestion_surcharge|        Airport_fee| cbd_congestion_fee|\n",
      "+-------+-------------------+------------------+-----------------+------------------+------------------+------------------+------------------+------------------+------------------+------------------+-------------------+------------------+------------------+---------------------+------------------+--------------------+-------------------+-------------------+\n",
      "|  count|              28440|             28440|            28440|             28440|             28440|             28440|             28440|             28440|             28440|             28440|              28440|             28440|             28440|                28440|             28440|               28440|              28440|              28440|\n",
      "|   mean| 1.7775668073136428|1.3040084388185653| 3.17696308016879|2.2887482419127987|              NULL|167.03372011251759|166.88927566807314|1.1723980309423347|17.931606188466976|1.5911040787623065|  0.495771800281294|3.5477802390998074| 0.542145218002822|   0.9884317862165963|27.421531645569523|  2.3335091420534457|0.13143459915611813| 0.4911919831223629|\n",
      "| stddev|0.43570744743284673|0.7379621755271004|4.337706578127692|10.879985840811031|              NULL| 62.80187483704861| 68.58164408022209|0.4734125362257193|17.238183854524493|1.8885854856680284|0.05297309282101151|3.8298248947589593|2.1436591619217973|  0.10693358817744898|21.761726750293825|  0.6233150087906298|0.46124069105176413|0.35655138918771634|\n",
      "|    min|                  1|                 1|             0.01|                 1|                 N|                 1|                 1|                 1|               0.0|               0.0|                0.0|               0.0|               0.0|                  0.0|              3.25|                 0.0|                0.0|                0.0|\n",
      "|    max|                  7|                 6|            83.67|                99|                 Y|               265|               265|                 4|             553.2|              12.5|               4.75|             83.52|             37.94|                  1.0|             555.2|                 2.5|               1.75|               0.75|\n",
      "+-------+-------------------+------------------+-----------------+------------------+------------------+------------------+------------------+------------------+------------------+------------------+-------------------+------------------+------------------+---------------------+------------------+--------------------+-------------------+-------------------+\n",
      "\n"
     ]
    }
   ],
   "execution_count": 91
  },
  {
   "metadata": {
    "ExecuteTime": {
     "end_time": "2025-06-15T04:17:29.064620Z",
     "start_time": "2025-06-15T04:17:27.033286Z"
    }
   },
   "cell_type": "code",
   "source": [
    "df = df.filter(col(\"RatecodeID\").isin([1, 2, 3, 4, 5, 6])) \\\n",
    "       .filter(col(\"payment_type\").isin([0, 1, 2, 3, 4, 5, 6])) \\\n",
    "       .filter(col(\"store_and_fwd_flag\").isin([\"Y\", \"N\"]))\n",
    "\n",
    "print(sample_df.count())"
   ],
   "id": "ad64719be2de0fec",
   "outputs": [
    {
     "name": "stdout",
     "output_type": "stream",
     "text": [
      "28440\n"
     ]
    }
   ],
   "execution_count": 92
  },
  {
   "metadata": {
    "ExecuteTime": {
     "end_time": "2025-06-15T04:17:30.167957Z",
     "start_time": "2025-06-15T04:17:29.066619Z"
    }
   },
   "cell_type": "code",
   "source": [
    "from pyspark.sql.functions import year, month, dayofmonth, hour, dayofweek\n",
    "\n",
    "sample_df = sample_df.withColumn(\"year\", year(\"tpep_pickup_datetime\")) \\\n",
    "       .withColumn(\"month\", month(\"tpep_pickup_datetime\")) \\\n",
    "       .withColumn(\"day\", dayofmonth(\"tpep_pickup_datetime\")) \\\n",
    "       .withColumn(\"hour\", hour(\"tpep_pickup_datetime\")) \\\n",
    "       .withColumn(\"day_of_week\", dayofweek(\"tpep_pickup_datetime\"))  # 1=domingo, 7=sábado\n",
    "\n",
    "sample_df.show(5)"
   ],
   "id": "5f2f3f165bf200a2",
   "outputs": [
    {
     "name": "stdout",
     "output_type": "stream",
     "text": [
      "+--------+--------------------+---------------------+---------------+-------------+----------+------------------+------------+------------+------------+-----------+-----+-------+----------+------------+---------------------+------------+--------------------+-----------+------------------+----+-----+---+----+-----------+\n",
      "|VendorID|tpep_pickup_datetime|tpep_dropoff_datetime|passenger_count|trip_distance|RatecodeID|store_and_fwd_flag|PULocationID|DOLocationID|payment_type|fare_amount|extra|mta_tax|tip_amount|tolls_amount|improvement_surcharge|total_amount|congestion_surcharge|Airport_fee|cbd_congestion_fee|year|month|day|hour|day_of_week|\n",
      "+--------+--------------------+---------------------+---------------+-------------+----------+------------------+------------+------------+------------+-----------+-----+-------+----------+------------+---------------------+------------+--------------------+-----------+------------------+----+-----+---+----+-----------+\n",
      "|       2| 2025-01-01 10:48:53|  2025-01-01 10:52:59|              1|         2.61|         1|                 N|         132|          10|           2|       12.1|  0.0|    0.5|       0.0|         0.0|                  1.0|       15.35|                 0.0|       1.75|               0.0|2025|    1|  1|  10|          4|\n",
      "|       2| 2025-01-01 13:09:45|  2025-01-01 13:14:33|              1|         0.83|         1|                 N|         151|         151|           1|        7.2|  0.0|    0.5|       1.0|         0.0|                  1.0|         9.7|                 0.0|        0.0|               0.0|2025|    1|  1|  13|          4|\n",
      "|       2| 2025-01-01 14:55:27|  2025-01-01 15:05:29|              4|         1.87|         1|                 N|         158|         107|           2|       12.1|  0.0|    0.5|       0.0|         0.0|                  1.0|        16.1|                 2.5|        0.0|               0.0|2025|    1|  1|  14|          4|\n",
      "|       2| 2025-01-01 16:43:57|  2025-01-01 17:03:32|              2|         4.58|         1|                 N|          88|          48|           1|       23.3|  0.0|    0.5|      5.46|         0.0|                  1.0|       32.76|                 2.5|        0.0|               0.0|2025|    1|  1|  16|          4|\n",
      "|       2| 2025-01-01 19:11:48|  2025-01-01 19:34:20|              1|         4.11|         1|                 N|         132|         258|           1|       24.7|  0.0|    0.5|      6.55|         0.0|                  1.0|       32.75|                 0.0|        0.0|               0.0|2025|    1|  1|  19|          4|\n",
      "+--------+--------------------+---------------------+---------------+-------------+----------+------------------+------------+------------+------------+-----------+-----+-------+----------+------------+---------------------+------------+--------------------+-----------+------------------+----+-----+---+----+-----------+\n",
      "only showing top 5 rows\n"
     ]
    }
   ],
   "execution_count": 93
  },
  {
   "metadata": {
    "ExecuteTime": {
     "end_time": "2025-06-15T04:17:31.611695Z",
     "start_time": "2025-06-15T04:17:30.184949Z"
    }
   },
   "cell_type": "code",
   "source": [
    "from pyspark.sql.functions import unix_timestamp, round\n",
    "\n",
    "sample_df = sample_df.withColumn(\"trip_duration\", round((unix_timestamp(\"tpep_dropoff_datetime\") - unix_timestamp(\"tpep_pickup_datetime\")) / 60, 2))\n",
    "\n",
    "sample_df.show(5)"
   ],
   "id": "1191b7d3c01f86c9",
   "outputs": [
    {
     "name": "stdout",
     "output_type": "stream",
     "text": [
      "+--------+--------------------+---------------------+---------------+-------------+----------+------------------+------------+------------+------------+-----------+-----+-------+----------+------------+---------------------+------------+--------------------+-----------+------------------+----+-----+---+----+-----------+-------------+\n",
      "|VendorID|tpep_pickup_datetime|tpep_dropoff_datetime|passenger_count|trip_distance|RatecodeID|store_and_fwd_flag|PULocationID|DOLocationID|payment_type|fare_amount|extra|mta_tax|tip_amount|tolls_amount|improvement_surcharge|total_amount|congestion_surcharge|Airport_fee|cbd_congestion_fee|year|month|day|hour|day_of_week|trip_duration|\n",
      "+--------+--------------------+---------------------+---------------+-------------+----------+------------------+------------+------------+------------+-----------+-----+-------+----------+------------+---------------------+------------+--------------------+-----------+------------------+----+-----+---+----+-----------+-------------+\n",
      "|       2| 2025-01-01 10:48:53|  2025-01-01 10:52:59|              1|         2.61|         1|                 N|         132|          10|           2|       12.1|  0.0|    0.5|       0.0|         0.0|                  1.0|       15.35|                 0.0|       1.75|               0.0|2025|    1|  1|  10|          4|          4.1|\n",
      "|       2| 2025-01-01 13:09:45|  2025-01-01 13:14:33|              1|         0.83|         1|                 N|         151|         151|           1|        7.2|  0.0|    0.5|       1.0|         0.0|                  1.0|         9.7|                 0.0|        0.0|               0.0|2025|    1|  1|  13|          4|          4.8|\n",
      "|       2| 2025-01-01 14:55:27|  2025-01-01 15:05:29|              4|         1.87|         1|                 N|         158|         107|           2|       12.1|  0.0|    0.5|       0.0|         0.0|                  1.0|        16.1|                 2.5|        0.0|               0.0|2025|    1|  1|  14|          4|        10.03|\n",
      "|       2| 2025-01-01 16:43:57|  2025-01-01 17:03:32|              2|         4.58|         1|                 N|          88|          48|           1|       23.3|  0.0|    0.5|      5.46|         0.0|                  1.0|       32.76|                 2.5|        0.0|               0.0|2025|    1|  1|  16|          4|        19.58|\n",
      "|       2| 2025-01-01 19:11:48|  2025-01-01 19:34:20|              1|         4.11|         1|                 N|         132|         258|           1|       24.7|  0.0|    0.5|      6.55|         0.0|                  1.0|       32.75|                 0.0|        0.0|               0.0|2025|    1|  1|  19|          4|        22.53|\n",
      "+--------+--------------------+---------------------+---------------+-------------+----------+------------------+------------+------------+------------+-----------+-----+-------+----------+------------+---------------------+------------+--------------------+-----------+------------------+----+-----+---+----+-----------+-------------+\n",
      "only showing top 5 rows\n"
     ]
    }
   ],
   "execution_count": 95
  },
  {
   "metadata": {
    "ExecuteTime": {
     "end_time": "2025-06-15T04:17:33.458283Z",
     "start_time": "2025-06-15T04:17:31.629121Z"
    }
   },
   "cell_type": "code",
   "source": [
    "sample_df = sample_df.withColumn(\"trip_distance\", col(\"trip_distance\") * 1.60934)\n",
    "\n",
    "sample_df.show(5)"
   ],
   "id": "37e97d484ca15dd5",
   "outputs": [
    {
     "name": "stdout",
     "output_type": "stream",
     "text": [
      "+--------+--------------------+---------------------+---------------+-----------------+----------+------------------+------------+------------+------------+-----------+-----+-------+----------+------------+---------------------+------------+--------------------+-----------+------------------+----+-----+---+----+-----------+-------------+\n",
      "|VendorID|tpep_pickup_datetime|tpep_dropoff_datetime|passenger_count|    trip_distance|RatecodeID|store_and_fwd_flag|PULocationID|DOLocationID|payment_type|fare_amount|extra|mta_tax|tip_amount|tolls_amount|improvement_surcharge|total_amount|congestion_surcharge|Airport_fee|cbd_congestion_fee|year|month|day|hour|day_of_week|trip_duration|\n",
      "+--------+--------------------+---------------------+---------------+-----------------+----------+------------------+------------+------------+------------+-----------+-----+-------+----------+------------+---------------------+------------+--------------------+-----------+------------------+----+-----+---+----+-----------+-------------+\n",
      "|       2| 2025-01-01 10:48:53|  2025-01-01 10:52:59|              1|        4.2003774|         1|                 N|         132|          10|           2|       12.1|  0.0|    0.5|       0.0|         0.0|                  1.0|       15.35|                 0.0|       1.75|               0.0|2025|    1|  1|  10|          4|          4.1|\n",
      "|       2| 2025-01-01 13:09:45|  2025-01-01 13:14:33|              1|        1.3357522|         1|                 N|         151|         151|           1|        7.2|  0.0|    0.5|       1.0|         0.0|                  1.0|         9.7|                 0.0|        0.0|               0.0|2025|    1|  1|  13|          4|          4.8|\n",
      "|       2| 2025-01-01 14:55:27|  2025-01-01 15:05:29|              4|        3.0094658|         1|                 N|         158|         107|           2|       12.1|  0.0|    0.5|       0.0|         0.0|                  1.0|        16.1|                 2.5|        0.0|               0.0|2025|    1|  1|  14|          4|        10.03|\n",
      "|       2| 2025-01-01 16:43:57|  2025-01-01 17:03:32|              2|        7.3707772|         1|                 N|          88|          48|           1|       23.3|  0.0|    0.5|      5.46|         0.0|                  1.0|       32.76|                 2.5|        0.0|               0.0|2025|    1|  1|  16|          4|        19.58|\n",
      "|       2| 2025-01-01 19:11:48|  2025-01-01 19:34:20|              1|6.614387400000001|         1|                 N|         132|         258|           1|       24.7|  0.0|    0.5|      6.55|         0.0|                  1.0|       32.75|                 0.0|        0.0|               0.0|2025|    1|  1|  19|          4|        22.53|\n",
      "+--------+--------------------+---------------------+---------------+-----------------+----------+------------------+------------+------------+------------+-----------+-----+-------+----------+------------+---------------------+------------+--------------------+-----------+------------------+----+-----+---+----+-----------+-------------+\n",
      "only showing top 5 rows\n"
     ]
    }
   ],
   "execution_count": 97
  },
  {
   "metadata": {
    "ExecuteTime": {
     "end_time": "2025-06-15T04:17:33.474276Z",
     "start_time": "2025-06-15T04:17:33.460281Z"
    }
   },
   "cell_type": "code",
   "source": "sample_df.printSchema()",
   "id": "3887b6eb680793e6",
   "outputs": [
    {
     "name": "stdout",
     "output_type": "stream",
     "text": [
      "root\n",
      " |-- VendorID: integer (nullable = true)\n",
      " |-- tpep_pickup_datetime: timestamp_ntz (nullable = true)\n",
      " |-- tpep_dropoff_datetime: timestamp_ntz (nullable = true)\n",
      " |-- passenger_count: long (nullable = true)\n",
      " |-- trip_distance: double (nullable = true)\n",
      " |-- RatecodeID: long (nullable = true)\n",
      " |-- store_and_fwd_flag: string (nullable = true)\n",
      " |-- PULocationID: integer (nullable = true)\n",
      " |-- DOLocationID: integer (nullable = true)\n",
      " |-- payment_type: long (nullable = true)\n",
      " |-- fare_amount: double (nullable = true)\n",
      " |-- extra: double (nullable = true)\n",
      " |-- mta_tax: double (nullable = true)\n",
      " |-- tip_amount: double (nullable = true)\n",
      " |-- tolls_amount: double (nullable = true)\n",
      " |-- improvement_surcharge: double (nullable = true)\n",
      " |-- total_amount: double (nullable = true)\n",
      " |-- congestion_surcharge: double (nullable = true)\n",
      " |-- Airport_fee: double (nullable = true)\n",
      " |-- cbd_congestion_fee: double (nullable = true)\n",
      " |-- year: integer (nullable = true)\n",
      " |-- month: integer (nullable = true)\n",
      " |-- day: integer (nullable = true)\n",
      " |-- hour: integer (nullable = true)\n",
      " |-- day_of_week: integer (nullable = true)\n",
      " |-- trip_duration: double (nullable = true)\n",
      "\n"
     ]
    }
   ],
   "execution_count": 98
  },
  {
   "metadata": {
    "ExecuteTime": {
     "end_time": "2025-06-15T04:33:27.971724Z",
     "start_time": "2025-06-15T04:33:25.877497Z"
    }
   },
   "cell_type": "code",
   "source": [
    "# from pyspark.sql.functions import year, month, dayofmonth, hour, dayofweek, monotonically_increasing_id\n",
    "# \n",
    "# dim_tempo = sample_df.select(\"tpep_pickup_datetime\") \\\n",
    "#     .withColumn(\"year\", year(\"tpep_pickup_datetime\")) \\\n",
    "#     .withColumn(\"month\", month(\"tpep_pickup_datetime\")) \\\n",
    "#     .withColumn(\"day\", dayofmonth(\"tpep_pickup_datetime\")) \\\n",
    "#     .withColumn(\"hour\", hour(\"tpep_pickup_datetime\")) \\\n",
    "#     .withColumn(\"day_of_week\", dayofweek(\"tpep_pickup_datetime\")) \\\n",
    "#     .dropDuplicates()\n",
    "# \n",
    "# dim_tempo = dim_tempo.withColumn(\"dim_tempo_id\", monotonically_increasing_id())\n",
    "# \n",
    "# print(\"Tabela dim_tempo:\")\n",
    "# dim_tempo.show(5, truncate=False)\n",
    "\n",
    "from pyspark.sql.functions import year, month, dayofmonth, hour, dayofweek, monotonically_increasing_id\n",
    "\n",
    "dim_tempo = sample_df.select(\n",
    "    year(\"tpep_pickup_datetime\").alias(\"year\"),\n",
    "    month(\"tpep_pickup_datetime\").alias(\"month\"),\n",
    "    dayofmonth(\"tpep_pickup_datetime\").alias(\"day\"),\n",
    "    hour(\"tpep_pickup_datetime\").alias(\"hour\"),\n",
    "    dayofweek(\"tpep_pickup_datetime\").alias(\"day_of_week\")\n",
    ")\n",
    "print(\"dim_tempo sem remover duplicata: \", dim_tempo.count())\n",
    "dim_tempo = dim_tempo.dropDuplicates([\"year\", \"month\", \"day\", \"hour\", \"day_of_week\"])\n",
    "print(\"dim_tempo removendo duplicata: \", dim_tempo.count())\n",
    "\n",
    "\n",
    "dim_tempo = dim_tempo.withColumn(\"dim_tempo_id\", monotonically_increasing_id())\n",
    "\n",
    "# print(\"Tabela dim_tempo (corrigida):\")\n",
    "# dim_tempo.show(5)"
   ],
   "id": "b785562327e1cfef",
   "outputs": [
    {
     "name": "stdout",
     "output_type": "stream",
     "text": [
      "dim_tempo sem remover duplicata:  28440\n",
      "dim_tempo removendo duplicata:  737\n"
     ]
    }
   ],
   "execution_count": 117
  },
  {
   "metadata": {
    "ExecuteTime": {
     "end_time": "2025-06-15T04:35:19.594750Z",
     "start_time": "2025-06-15T04:35:19.007316Z"
    }
   },
   "cell_type": "code",
   "source": [
    "from pyspark.sql.functions import col, when\n",
    "\n",
    "dim_pagamento = sample_df.select(\"payment_type\").dropDuplicates()\n",
    "\n",
    "dim_pagamento = dim_pagamento.withColumn(\"descricao\",\n",
    "    when(col(\"payment_type\") == 1, \"Cartão\")\n",
    "    .when(col(\"payment_type\") == 2, \"Dinheiro\")\n",
    "    .when(col(\"payment_type\") == 3, \"Sem cobrança\")\n",
    "    .when(col(\"payment_type\") == 4, \"Contestação\")\n",
    "    .when(col(\"payment_type\") == 5, \"Desconhecido\")\n",
    "    .when(col(\"payment_type\") == 6, \"Corrida anulada\")\n",
    "    .otherwise(\"Outro\")\n",
    ")\n",
    "\n",
    "dim_pagamento = dim_pagamento.withColumn(\"dim_pagamento_id\", monotonically_increasing_id())\n",
    "\n",
    "print(\"Tabela dim_pagamento:\")\n",
    "dim_pagamento.show()"
   ],
   "id": "d3df5ed9a80297b6",
   "outputs": [
    {
     "name": "stdout",
     "output_type": "stream",
     "text": [
      "Tabela dim_pagamento:\n",
      "+------------+------------+----------------+\n",
      "|payment_type|   descricao|dim_pagamento_id|\n",
      "+------------+------------+----------------+\n",
      "|           1|      Cartão|               0|\n",
      "|           3|Sem cobrança|               1|\n",
      "|           2|    Dinheiro|               2|\n",
      "|           4| Contestação|               3|\n",
      "+------------+------------+----------------+\n",
      "\n"
     ]
    }
   ],
   "execution_count": 118
  },
  {
   "metadata": {
    "ExecuteTime": {
     "end_time": "2025-06-15T04:35:22.112345Z",
     "start_time": "2025-06-15T04:35:21.530755Z"
    }
   },
   "cell_type": "code",
   "source": [
    "dim_tarifa = sample_df.select(\"RatecodeID\").dropDuplicates()\n",
    "\n",
    "dim_tarifa = dim_tarifa.withColumn(\"descricao\",\n",
    "    when(col(\"RatecodeID\") == 1, \"Padrão\")\n",
    "    .when(col(\"RatecodeID\") == 2, \"JFK\")\n",
    "    .when(col(\"RatecodeID\") == 3, \"Newark\")\n",
    "    .when(col(\"RatecodeID\") == 4, \"Nassau/Westchester\")\n",
    "    .when(col(\"RatecodeID\") == 5, \"Tarifa negociada\")\n",
    "    .when(col(\"RatecodeID\") == 6, \"Corrida em grupo\")\n",
    "    .otherwise(\"Desconhecido\")\n",
    ")\n",
    "\n",
    "dim_tarifa = dim_tarifa.withColumn(\"dim_tarifa_id\", monotonically_increasing_id())\n",
    "\n",
    "print(\"Tabela dim_tarifa:\")\n",
    "dim_tarifa.show()"
   ],
   "id": "7296fb531cef0f20",
   "outputs": [
    {
     "name": "stdout",
     "output_type": "stream",
     "text": [
      "Tabela dim_tarifa:\n",
      "+----------+------------------+-------------+\n",
      "|RatecodeID|         descricao|dim_tarifa_id|\n",
      "+----------+------------------+-------------+\n",
      "|         6|  Corrida em grupo|            0|\n",
      "|         5|  Tarifa negociada|            1|\n",
      "|         1|            Padrão|            2|\n",
      "|         3|            Newark|            3|\n",
      "|         2|               JFK|            4|\n",
      "|         4|Nassau/Westchester|            5|\n",
      "|        99|      Desconhecido|            6|\n",
      "+----------+------------------+-------------+\n",
      "\n"
     ]
    }
   ],
   "execution_count": 119
  },
  {
   "metadata": {
    "ExecuteTime": {
     "end_time": "2025-06-15T04:35:26.527123Z",
     "start_time": "2025-06-15T04:35:23.121671Z"
    }
   },
   "cell_type": "code",
   "source": [
    "df_com_tempo = sample_df.withColumn(\"year\", year(\"tpep_pickup_datetime\")) \\\n",
    "       .withColumn(\"month\", month(\"tpep_pickup_datetime\")) \\\n",
    "       .withColumn(\"day\", dayofmonth(\"tpep_pickup_datetime\")) \\\n",
    "       .withColumn(\"hour\", hour(\"tpep_pickup_datetime\")) \\\n",
    "       .withColumn(\"day_of_week\", dayofweek(\"tpep_pickup_datetime\"))\n",
    "\n",
    "\n",
    "df_joined = df_com_tempo.join(dim_tempo, on=[\"year\", \"month\", \"day\", \"hour\", \"day_of_week\"], how=\"left\") \\\n",
    "                        .join(dim_pagamento, on=\"payment_type\", how=\"left\") \\\n",
    "                        .join(dim_tarifa, on=\"RatecodeID\", how=\"left\")\n",
    "\n",
    "fato_corrida = df_joined.select(\n",
    "    \"passenger_count\",\n",
    "    \"trip_distance\",\n",
    "    \"trip_duration\",\n",
    "    \"fare_amount\",\n",
    "    \"tip_amount\",\n",
    "    \"tolls_amount\",\n",
    "    \"total_amount\",\n",
    "    \"dim_tempo_id\",\n",
    "    \"dim_pagamento_id\",\n",
    "    \"dim_tarifa_id\"\n",
    ")\n",
    "\n",
    "fato_corrida = fato_corrida.withColumn(\"corrida_id\", monotonically_increasing_id())\n",
    "\n",
    "# print(\"Tabela fato_corrida:\")\n",
    "# fato_corrida.printSchema()\n",
    "fato_corrida.show()"
   ],
   "id": "50da6b384c0ede11",
   "outputs": [
    {
     "name": "stdout",
     "output_type": "stream",
     "text": [
      "+---------------+------------------+-------------+-----------+----------+------------+------------+------------+----------------+-------------+----------+\n",
      "|passenger_count|     trip_distance|trip_duration|fare_amount|tip_amount|tolls_amount|total_amount|dim_tempo_id|dim_pagamento_id|dim_tarifa_id|corrida_id|\n",
      "+---------------+------------------+-------------+-----------+----------+------------+------------+------------+----------------+-------------+----------+\n",
      "|              1|         4.2003774|          4.1|       12.1|       0.0|         0.0|       15.35|         669|               2|            2|         0|\n",
      "|              1|         1.3357522|          4.8|        7.2|       1.0|         0.0|         9.7|         277|               0|            2|         1|\n",
      "|              4|         3.0094658|        10.03|       12.1|       0.0|         0.0|        16.1|         160|               2|            2|         2|\n",
      "|              2|         7.3707772|        19.58|       23.3|      5.46|         0.0|       32.76|         650|               0|            2|         3|\n",
      "|              1| 6.614387400000001|        22.53|       24.7|      6.55|         0.0|       32.75|         545|               0|            2|         4|\n",
      "|              4|         4.6831794|        23.23|      21.94|       0.0|         0.0|       25.94|         383|               0|            2|         5|\n",
      "|              1|         2.9450922|         10.0|       11.4|      3.08|         0.0|       18.48|         392|               0|            2|         6|\n",
      "|              2|         1.4966862|         7.15|        8.6|       0.0|         0.0|        15.1|         636|               2|            2|         7|\n",
      "|              1|         1.0138842|         3.03|        5.8|       0.0|         0.0|         9.8|         467|               2|            2|         8|\n",
      "|              5|         4.1520972|        13.82|       15.6|       0.0|         0.0|        19.6|          80|               2|            2|         9|\n",
      "|              2|          5.471756|        13.52|       18.4|       4.5|         0.0|        26.9|         670|               0|            2|        10|\n",
      "|              2|         2.6071308|         8.82|       11.4|      3.28|         0.0|       19.68|         143|               0|            2|        11|\n",
      "|              1|         7.9179528|        15.65|       22.6|       4.0|         0.0|       31.35|         179|               0|            2|        12|\n",
      "|              5|           4.82802|        10.52|       14.2|       4.0|         0.0|       22.95|         586|               0|            2|        13|\n",
      "|              1|1.6737136000000001|         5.22|        7.9|       0.0|         0.0|        11.9|         254|               2|            2|        14|\n",
      "|              1|         1.2552852|         4.77|        7.2|      2.39|         0.0|       14.34|         640|               0|            2|        15|\n",
      "|              1|14.001257999999998|        22.73|       36.6|       5.0|        6.94|       59.29|         582|               0|            2|        16|\n",
      "|              3|         1.4162192|         5.45|        7.2|      2.24|         0.0|       13.44|         582|               0|            2|        17|\n",
      "|              1|3.5405480000000003|         10.5|       12.1|       3.4|         0.0|        17.0|         156|               0|            2|        18|\n",
      "|              1|         2.9289988|          9.7|       10.7|      3.86|         0.0|       19.31|         109|               0|            2|        19|\n",
      "+---------------+------------------+-------------+-----------+----------+------------+------------+------------+----------------+-------------+----------+\n",
      "only showing top 20 rows\n"
     ]
    }
   ],
   "execution_count": 120
  },
  {
   "metadata": {},
   "cell_type": "code",
   "outputs": [],
   "execution_count": null,
   "source": "",
   "id": "4c4f6013188ac6a9"
  }
 ],
 "metadata": {
  "kernelspec": {
   "display_name": "Python 3",
   "language": "python",
   "name": "python3"
  },
  "language_info": {
   "codemirror_mode": {
    "name": "ipython",
    "version": 2
   },
   "file_extension": ".py",
   "mimetype": "text/x-python",
   "name": "python",
   "nbconvert_exporter": "python",
   "pygments_lexer": "ipython2",
   "version": "2.7.6"
  }
 },
 "nbformat": 4,
 "nbformat_minor": 5
}
